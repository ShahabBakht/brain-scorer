{
 "cells": [
  {
   "cell_type": "code",
   "execution_count": 1,
   "metadata": {},
   "outputs": [
    {
     "name": "stdout",
     "output_type": "stream",
     "text": [
      "non-movie dataset, skipping .\\crcns-ringach-data\\neurodata\\ac1\\ac1_u004_001.mat, 0\n",
      "non-movie dataset, skipping .\\crcns-ringach-data\\neurodata\\ac1\\ac1_u004_001.mat, 1\n",
      "non-movie dataset, skipping .\\crcns-ringach-data\\neurodata\\ac1\\ac1_u004_001.mat, 2\n",
      "non-movie dataset, skipping .\\crcns-ringach-data\\neurodata\\ac1\\ac1_u004_001.mat, 3\n",
      "non-movie dataset, skipping .\\crcns-ringach-data\\neurodata\\ac1\\ac1_u004_001.mat, 4\n",
      "non-movie dataset, skipping .\\crcns-ringach-data\\neurodata\\ac1\\ac1_u004_001.mat, 5\n",
      "non-movie dataset, skipping .\\crcns-ringach-data\\neurodata\\ac1\\ac1_u004_001.mat, 6\n",
      "non-movie dataset, skipping .\\crcns-ringach-data\\neurodata\\ac1\\ac1_u004_001.mat, 7\n",
      "non-movie dataset, skipping .\\crcns-ringach-data\\neurodata\\ac1\\ac1_u004_001.mat, 8\n",
      "non-movie dataset, skipping .\\crcns-ringach-data\\neurodata\\ac1\\ac1_u004_001.mat, 9\n",
      "non-movie dataset, skipping .\\crcns-ringach-data\\neurodata\\ac1\\ac1_u004_001.mat, 10\n",
      "non-movie dataset, skipping .\\crcns-ringach-data\\neurodata\\ac1\\ac1_u004_001.mat, 11\n"
     ]
    },
    {
     "data": {
      "text/plain": [
       "LowRankNet(\n",
       "  (subnet): Xception(\n",
       "    (conv1): Conv2d(3, 32, kernel_size=(7, 7), stride=(2, 2), bias=False)\n",
       "    (relu): ReLU(inplace=True)\n",
       "  )\n",
       ")"
      ]
     },
     "execution_count": 1,
     "metadata": {},
     "output_type": "execute_result"
    }
   ],
   "source": [
    "import os\n",
    "import pvc1_loader\n",
    "import separable_net\n",
    "import torch\n",
    "import xception\n",
    "\n",
    "data_root = '.'\n",
    "device = torch.device('cuda')\n",
    "\n",
    "trainset = pvc1_loader.PVC1(os.path.join(data_root, 'crcns-ringach-data'), \n",
    "                            split='train', \n",
    "                            nt=32, \n",
    "                            ntau=9,\n",
    "                            nframedelay=0)\n",
    "trainloader = torch.utils.data.DataLoader(trainset, \n",
    "                                          batch_size=1, \n",
    "                                          shuffle=False)\n",
    "\n",
    "subnet = xception.Xception(start_kernel_size=7, \n",
    "                           nblocks=0, \n",
    "                           nstartfeats=32)\n",
    "subnet.to(device=device)\n",
    "\n",
    "net = separable_net.LowRankNet(subnet, \n",
    "                               trainset.total_electrodes, \n",
    "                               32, \n",
    "                               109, \n",
    "                               109, \n",
    "                               trainset.ntau).to(device)\n",
    "\n",
    "net.to(device=device)"
   ]
  },
  {
   "cell_type": "code",
   "execution_count": 2,
   "metadata": {},
   "outputs": [
    {
     "data": {
      "text/plain": [
       "<All keys matched successfully>"
      ]
     },
     "execution_count": 2,
     "metadata": {},
     "output_type": "execute_result"
    }
   ],
   "source": [
    "net.load_state_dict(torch.load('models/shallow/xception.ckpt2500-2020-12-13 06-02-45.618720.pt'))"
   ]
  },
  {
   "cell_type": "code",
   "execution_count": 5,
   "metadata": {},
   "outputs": [
    {
     "name": "stderr",
     "output_type": "stream",
     "text": [
      "Clipping input data to the valid range for imshow with RGB data ([0..1] for floats or [0..255] for integers).\n"
     ]
    },
    {
     "data": {
      "image/png": "[encoded data removed]",
      "text/plain": [
       "<Figure size 432x288 with 32 Axes>"
      ]
     },
     "metadata": {
      "needs_background": "light"
     },
     "output_type": "display_data"
    }
   ],
   "source": [
    "import matplotlib.pyplot as plt\n",
    "\n",
    "for i in range(32):\n",
    "    plt.subplot(8, 4, i + 1)\n",
    "    plt.imshow(2*subnet.conv1.weight[i, :, :, :].permute((1, 2, 0)).cpu().detach().numpy() + .5)\n",
    "\n"
   ]
  }
 ],
 "metadata": {
  "kernelspec": {
   "display_name": "Python 3",
   "language": "python",
   "name": "python3"
  },
  "language_info": {
   "codemirror_mode": {
    "name": "ipython",
    "version": 3
   },
   "file_extension": ".py",
   "mimetype": "text/x-python",
   "name": "python",
   "nbconvert_exporter": "python",
   "pygments_lexer": "ipython3",
   "version": "3.8.5"
  }
 },
 "nbformat": 4,
 "nbformat_minor": 4
}
