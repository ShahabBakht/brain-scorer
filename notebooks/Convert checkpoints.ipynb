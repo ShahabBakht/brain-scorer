{
 "cells": [
  {
   "cell_type": "markdown",
   "metadata": {},
   "source": [
    "# Convert checkpoints to pickle\n",
    "\n",
    "Unlike the rest of this repo, this requires TF1.X and Python 3.7. It converts a TF checkpoint from MotionNet to a pickle file so we can use it in PyTorch."
   ]
  },
  {
   "cell_type": "code",
   "execution_count": 23,
   "metadata": {},
   "outputs": [
    {
     "name": "stdout",
     "output_type": "stream",
     "text": [
      "bconv (DT_FLOAT) [128]\n",
      "bconv/Adam (DT_FLOAT) [128]\n",
      "bconv/Adam_1 (DT_FLOAT) [128]\n",
      "beta1_power (DT_FLOAT) []\n",
      "beta2_power (DT_FLOAT) []\n",
      "bout (DT_FLOAT) [64]\n",
      "bout/Adam (DT_FLOAT) [64]\n",
      "bout/Adam_1 (DT_FLOAT) [64]\n",
      "wconv (DT_FLOAT) [6,6,6,128]\n",
      "wconv/Adam (DT_FLOAT) [6,6,6,128]\n",
      "wconv/Adam_1 (DT_FLOAT) [6,6,6,128]\n",
      "wout (DT_FLOAT) [93312,64]\n",
      "wout/Adam (DT_FLOAT) [93312,64]\n",
      "wout/Adam_1 (DT_FLOAT) [93312,64]\n",
      "\n",
      "# Total number of params: 17999426\n"
     ]
    }
   ],
   "source": [
    "import tensorflow as tf\n",
    "#from tensorflow.python.tools.inspect_checkpoint import print_tensors_in_checkpoint_file\n",
    "\n",
    "data = print_tensors_in_checkpoint_file('./results/motionNet', tensor_name='', all_tensors=False)\n",
    "#get_checkpoint = tf.train.latest_checkpoint('./results/')\n",
    "#inspect_list = tf.train.list_variables(get_checkpoint)\n",
    "data"
   ]
  },
  {
   "cell_type": "code",
   "execution_count": 77,
   "metadata": {},
   "outputs": [
    {
     "data": {
      "text/plain": [
       "(6, 6, 6, 128)"
      ]
     },
     "execution_count": 77,
     "metadata": {},
     "output_type": "execute_result"
    }
   ],
   "source": [
    "import pickle\n",
    "from tensorflow.python import pywrap_tensorflow\n",
    "\n",
    "def read_checkpoint(path):\n",
    "    reader = pywrap_tensorflow.NewCheckpointReader(path)\n",
    "    var_to_shape_map = reader.get_variable_to_shape_map()\n",
    "    the_map = {}\n",
    "    for key in var_to_shape_map:\n",
    "        the_map[key] = reader.get_tensor(key)\n",
    "    return the_map\n",
    "        \n",
    "data = read_checkpoint('./results/motionNet')\n",
    "data = {k: v for k, v in data.items() if 'Adam' not in k}\n",
    "with open('../pretrained/motionnet.pkl', 'wb') as f:\n",
    "    pickle.dump(data, f)\n",
    "data['wconv'].shape"
   ]
  },
  {
   "cell_type": "code",
   "execution_count": 92,
   "metadata": {},
   "outputs": [
    {
     "data": {
      "text/plain": [
       "<matplotlib.image.AxesImage at 0x7f35f64b3c10>"
      ]
     },
     "execution_count": 92,
     "metadata": {},
     "output_type": "execute_result"
    },
    {
     "data": {
      "image/png": "[encoded data removed]",
      "text/plain": [
       "<Figure size 432x288 with 1 Axes>"
      ]
     },
     "metadata": {
      "needs_background": "light"
     },
     "output_type": "display_data"
    }
   ],
   "source": [
    "plt.imshow(data['wout'][:, 0].reshape((27, 27, 128))[:, :, 0])"
   ]
  },
  {
   "cell_type": "code",
   "execution_count": 100,
   "metadata": {},
   "outputs": [
    {
     "data": {
      "text/html": [
       "<video width=\"288\" height=\"288\" controls autoplay loop>\n",
       "  <source type=\"video/mp4\" src=\"data:video/mp4;base64,AAAAHGZ0eXBNNFYgAAACAGlzb21pc28yYXZjMQAAAAhmcmVlAAASDW1kYXQAAAKgBgX//5zcRem9\n",
       "5tlIt5Ys2CDZI+7veDI2NCAtIGNvcmUgMTU3IC0gSC4yNjQvTVBFRy00IEFWQyBjb2RlYyAtIENv\n",
       "cHlsZWZ0IDIwMDMtMjAxOCAtIGh0dHA6Ly93d3cudmlkZW9sYW4ub3JnL3gyNjQuaHRtbCAtIG9w\n",
       "dGlvbnM6IGNhYmFjPTEgcmVmPTMgZGVibG9jaz0xOjA6MCBhbmFseXNlPTB4MzoweDExMyBtZT1o\n",
       "ZXggc3VibWU9NyBwc3k9MSBwc3lfcmQ9MS4wMDowLjAwIG1peGVkX3JlZj0xIG1lX3JhbmdlPTE2\n",
       "IGNocm9tYV9tZT0xIHRyZWxsaXM9MSA4eDhkY3Q9MSBjcW09MCBkZWFkem9uZT0yMSwxMSBmYXN0\n",
       "X3Bza2lwPTEgY2hyb21hX3FwX29mZnNldD0tMiB0aHJlYWRzPTkgbG9va2FoZWFkX3RocmVhZHM9\n",
       "MSBzbGljZWRfdGhyZWFkcz0wIG5yPTAgZGVjaW1hdGU9MSBpbnRlcmxhY2VkPTAgYmx1cmF5X2Nv\n",
       "bXBhdD0wIGNvbnN0cmFpbmVkX2ludHJhPTAgYmZyYW1lcz0zIGJfcHlyYW1pZD0yIGJfYWRhcHQ9\n",
       "MSBiX2JpYXM9MCBkaXJlY3Q9MSB3ZWlnaHRiPTEgb3Blbl9nb3A9MCB3ZWlnaHRwPTIga2V5aW50\n",
       "PTI1MCBrZXlpbnRfbWluPTEwIHNjZW5lY3V0PTQwIGludHJhX3JlZnJlc2g9MCByY19sb29rYWhl\n",
       "YWQ9NDAgcmM9Y3JmIG1idHJlZT0xIGNyZj0yMy4wIHFjb21wPTAuNjAgcXBtaW49MCBxcG1heD02\n",
       "OSBxcHN0ZXA9NCBpcF9yYXRpbz0xLjQwIGFxPTE6MS4wMACAAAACLmWIhAA///73aJ8Cm1pDeoDk\n",
       "lcUl20+B/6tncHyP6QMIpyzqtdwnVCd1ZnltQhfhsf8wA2yu5xI2QugzpTbZ2hiw5AVr/DRYVFGO\n",
       "LKGp7YbDQ1541j8L3fx5PfRzl47IJWUG3CR2PN8JBw0/+sbCtyDd3vGvaoIeiPQaK6N9zg9Ame7y\n",
       "VzA674p7KBpKvp9+MH1EVszqjkTr/CpZvdLFvjkGmm7VaG/nghCXWpo22EQlsi9ELW5S+PkmOCCo\n",
       "RBz4YqXLb/WQMkXsT6Ml93FdcD9xXP8GOozemdQ1Owss7shSNvEef60ZQKfjj4Es8+JrJ/VIv3Zb\n",
       "Yozrzcmt8CoOV2oX54GN/9VzljExnedcFPaQl0xaX10AOqzI59hE+AXwUpeCAu2MUS67+/pGPVe8\n",
       "iDUzqk6H2kf5iCqsyVi/Z7i6NFk9CnSrXvow0u1VVKur6YzH3daBWFvYXK8LapUOJhnsZrQzGTKy\n",
       "EJF2MoVLBf/Zc1CpZf1UJz+h4NUaeCiK7ZP3ZJYedm0tO0+cvIB1k53Bh0QKK11MMX6LIAiiy1lX\n",
       "Mp9hCtXuxQK9CHdpHoIvJlrTYDZWn99nkN7F7ZwzeuYmniPaGFhtu5AIXBmm16bLfPFDY1Tr///4\n",
       "nOj+Eabyh3wXckUvycQQafAUjt0xaedtzm0WSvNtex/7lAf+hO0Gs5M1U5Ps6Y5sY/dhVGUn0NQT\n",
       "ait4SfC8oEG9G4XdLr/syRF2oIUBGEhckx2B+wAAAmFBmiFsQ//+qZZ44VteLLkxU4P+RmAAanPr\n",
       "wxS3wC0TnxfTtneZmPEn3/boEABfG/V1Z1gjtb1WN3B+xGFUbh2L/A/y7YaWKzc2Q5m//9uTawCH\n",
       "REjyTDhNjtMkYZcpgpAn9GkoZ+Divdl7SL8HoMOBefVT6GKQmVwD1iemnMXAEAZeDKwjRNgfyIPu\n",
       "1Qh7/qpBA++lE+vG8SYbe6PFjhPPCjyynqhzfybTG0BcC7LPrb7lxOeM3tCg1iA2uY+iEGm07tSA\n",
       "Z1qKQqrMYWM4iwqJSKbamtSbWFvJ4l1gjV9+vWSmRQeqUHmmEIMvWTcV2Q0NXEoReq3Hw2g/DWh/\n",
       "44HeP/8L07tysiG6gJo61qbJ4U3f4MeL5+6eES7pzOwU4BgJ3Mjhte4V2vCnS3v0On67LjIoLQKs\n",
       "GEdrKcHsKhSxmhjBRaNFmPoXBLhSVjVFEwMS/KHwUgmSGi49KpgGLx99W9L/IkvAQz28bWz0OMv3\n",
       "F15/YWE2kvSW+xlbeWZDJsNhZ2GxYtArxPq4UQ+/QNpCpHdFjYf6YRCjo970qCkmfBp+kMws+YIZ\n",
       "Ij7JfflwZr3lRwHpZSg31hIg29efMmUhSfLDALsrCItL7PHknxeraaLuYbtfu8q9qXsHnFqkHtrm\n",
       "gPx1s/yyK1Al8iweYMy031DU6hbqbDg2nXuXItJ8y/OTM+YBz2AnApGicAy9GwY6j2hxv/911+3G\n",
       "JI/MS8/n9lmg7EEX0pcCqRJFI9zuzSMy4mwjdL2v5F/P/sO1+MGWsrI+gildszpj+lGWgthb3UkJ\n",
       "u/S/iTRbpWr9QCvAbkAAAAJlQZpCPCGTKYQ///6plgUZEco+AC0Zza1Soh5+s1CLj3j4wlPSjQfR\n",
       "V3FemQp3I+qh59oThUxactEv4WeHYvBgT2GCHAL9T2F/o4wI2yiBFoeG29e6k6i3dl+f92j20kHN\n",
       "cADvaSHBz1/vhK3Q+vd2y8j+OsAtYmVAp6DcQ5RowZzM4j/b4lVrO5IIHR7SoHQQGmdLduRpE7tG\n",
       "Yc8QuFX6eoRko+B1+4ofYi8g3fIAyuYcYDWw4ePx1moEpikAN8mZjAMQLnk3nt9jld2KjoOsz5ls\n",
       "rouGddhoDuSHiOhOvWVCaxjyUT8wj0Yjw0j8wW22z3fJX+7/THD4uMvynW++LuW7K+og6lzaxKsf\n",
       "KT3Vr6uIbiIOs0CCZu5uzx1etLpMe1+oRe22W2I6XNkllQUc05/g+Mi3db2qtJCYBmADb+TIO1rN\n",
       "Ul//nGBJoyZsZuAmVJOKF/kwkg0LskqNMb5y7zvc9YgBCnci0x10D+756UjjMaH/cVHzpiYqUrM+\n",
       "wxioDhjmWWiTCbR80reKrDnrQL3fh9B2A8/fDUR3+K7mgzMSkAXRpr7OnneONG9dk9u9XjPB5rmb\n",
       "9zqiZ1xAwRYaoAtBgKTnLJbq6ihIKgjDMV7q7f/akZgpUjMmJj1K7lS5xmLInwjF8r2tt+7lKuR7\n",
       "hav7bvqypjZPh31wfPqwgWy2KQ2CZkT89BcDcyBtAZTl8SHZCxL6rdQYOOVVSoqsxrMkBBDfx1E4\n",
       "w5WsEhhMuFbXdC/vkj2n2XLr1B2Yr1jVCDBYJf7d9PNQVzBC5vwylSrDKdjFPrhoz874gQpNFr7c\n",
       "MbO+0QAAAiRBmmNJ4Q8mUwIIf/6qVQF3NcROJbRqAEfaRfLLx1dOvmvRBgl17sX8YO6F2bC8kbD0\n",
       "6klF4vjIfdzGnNc528qV38EjNAZal1XpPPT9ZS5qEPRtsvuCoW7QnGqVmlk00QRXNmXmZ2cBLf/z\n",
       "RJzhrS4AasGnEespwy567oY7lHj8Z5CY5wUazGLpz5wvUE0iW83cVvJuHxexB8728Ud6bxQXuSpX\n",
       "9bPE9wOa1H9ksH1WbFVlkYQlVF+PR3Dem1N4DzC6+wgDj4Itf+nx06bZa+f2PJJkQjuKZD1uaZov\n",
       "jBKAqvUz3KRLRgDZOj/Gchkj+vwKMXvNwdrB7SQyr9klKRQcejSk4Q9ZdbruVzpQzjIASnm3oanh\n",
       "j81WHjf87xXstpYOBOzYP4WMFC5B3PE6AAkYqS1d8iJ8j66TSfgnQsRC0X1tIb3vU63OCHwWdNvH\n",
       "qtDTrWazpPpigvEfRCt9WcCd7y9ZZ5f6BS7uojLjjBet8AdoBhTzuiyZLdzeHejFv8sM+vPLNWn1\n",
       "0SLOlF2L9frzcbxlOWiDNPQGJ6wnf/jUzy5O1/v1SSX6onZ/Rsi8XzoJQCjvFyRLz6yzuKqpS6j8\n",
       "+UITl9CE512ZYGjzIHI3BeIJN45YG1rhygP1fZtsFq/9JrBudrszeyXkXJ1XQhTsrQZkEQ9emgtA\n",
       "7tgTu1o6Shsmm8kmNJvgfUKsgJ5mo6XOzZJP5WbOqIH1YQB5qC+i2rKY8AAAAm1BmoRJ4Q8mUwII\n",
       "f/6qVQe2uGHzo7QAjWc3/BoDpMXfqZ25D7iW5f/855SFTYml6DuXXxBhoUI1SBFHyIMFMp3gXDh5\n",
       "1jD/dYoeJOeS3bZeFOwtXBRRFYAfJyet+7Oz/4zdr8FrQZ466SF72wnvvDzrn+sd4Pe5AcI+jPRQ\n",
       "UiKjn4YGOLV9W1c0IPUY4ydVFuQ2cX7QN2wS82JYCQaVEiKlE+4HwOW/ZdVORFfDW2hW2DHoOWy2\n",
       "Bj+NIoDH8UwVlyGtv2bvToyBOzUCatNLsZbJKp//kSirpHat67aqdVGYNGeIxqF0XlIbOmYYN1dB\n",
       "ApkCVBxTku4kNF1dIL6QMk0W5bClpJACDYZqabFNCg0FhMLbAZEmg3yxRhKLrHFb+h/LHUEkkzHp\n",
       "QlZKBg4qGBlDk72ONACzyDvAq7Kg00irA93APdaBOmTgctx8wyGuj7S3/mau1O89mHx0tybvBmxk\n",
       "PxdR/k/OQo44FnDPrq60MsuSN4zFRGf+V7IpQOY4ES+HYdvpnrMdMMiqB4GmtJSJceqFHMhywOX0\n",
       "E6KO9yFhCmTR/1iG25xUF02NR/canfECw79NWMCvToXgGccWadxZ0omNZHP0Iur7ug3l1QpR9AId\n",
       "TiWmOd4ZAcqci2b8Mbb4F+Gj4wPwjpf/HA6u53zLbyL3jOav2X/2zT16LWmBWfkbYZ4mnGJGTzki\n",
       "ddG9bgFpPvv7pIAxBLpvzovtTnrwIK7qHBojGexY5a30eOlRADUUkOuHqkuAUhnemVuJDZ8apeFX\n",
       "4DbxcwUA+eyeM4eh29VvQkvfkJcWGQoUEhl8MOuP7VkoGnSor5H+ChkAAAJYQZqoSeEPJlMCH//+\n",
       "qZYzdShs2fS0AH0wKvG3+IKOawH/9yht23BvAk6zuo65HSS0JboGKDy1epvofMfeZbi0GKrFf2m+\n",
       "PoCjjbS7aSEyIjYYUev0w+ZjF1fwJxJj4WZzSi/VP3VBtgOL4tR32pEitoPUHSgDcStkWSw780Gc\n",
       "TnmqKitkeharPo0z243PFGvQtuZuhhJXEXyYR11nGtRaEq+G7Zo68Q6o+IFO7pLP/VhqxDTjVXyS\n",
       "LXrXQlalYXX8WifD3JK7g1G+9fcF2uDHiEkJhK7s4U3PXatzMWpZQpoKW+cO0M+x0y8gUl0bAP3+\n",
       "Mh1QYSLHuaZvD6tmISqB7k3WdZCJqkJ/jAkftgjWBYDwdWKwJPt739lbdv1pxBHhVAj0RmEWeRsL\n",
       "VJqt+NPUrR3teh7ltxsWDWKwDJgDCiDacdB4SwXfQFByIoQVJL5MsGCa7X7h1ylj654FZpEb6Dpw\n",
       "b+LpLU/Tl3jcjAD5mfVbgOTyYhJJQBNxyZLtjyUHnicQQrg/ZWqVfyzQ7rkan9yJNd+znI+UwIVE\n",
       "euoE/ev4sLCr5PbwmgL24OiOZvoIyKr03sunXFqvoSB9x2QAPBm+omu8n1JvQMWQ7JEQksnSxgxS\n",
       "YRY5lCBUjzCt5tFlofpCms8OhcEv+HW3UZYoPT7KZipEpUvSjBvuUdOrGyvJAH490sBBxY3yeDU0\n",
       "6UTu5nd+XqTeuhnPx3QNqzFmHdXI+uhqlN1RpzwyL833bVzNlaa9Qr3hehjD92eIByyFCVEjOoLX\n",
       "vfRp+B5WAJ6BBFCN3AI5CCQFAAAAcUGexkURPDv/AxYhCw1kM/A1iIojTPC80OJaIASvp+meeBV6\n",
       "hdjT9MgR0uxqjhUM/ZdhFmDO2ykN+JcdQ4lt6cC8pZ6mD3xlxu9vCjV8RkAIqXKQxXeX+tZ3paMc\n",
       "n+iV24p5a6aK0ddIB+cpYJYJqLRnAAAANAGe5XRDfwRfweo6DrHlwM6JqQXqQb7ju5TN306eKO9c\n",
       "3UTZnTmxhsvRY+I5EhIPflp4G1cAAAAsAZ7nakN/BGOjsvzykxjnNxVRPFJ34V8M1UfG6Tak8S5X\n",
       "LYo8drADgwhRMOAAAAA4QZrrSahBaJlMCG///qeFo3hLeDN2WFenkKDTq7msamL0ZQLXrdy5+S1G\n",
       "XFx/biEsCqHqGrX+FfAAAAA1QZ8JRREsN/8EZYC6MLRLvNWn5vljth9zmbiIhKdxJSciE9xm6LP1\n",
       "tOLlfvT77DMH1FwAWBEAAAAWAZ8qakN/BGOhb6bO0oPIqX7MP+TDugAAA5Ztb292AAAAbG12aGQA\n",
       "AAAAAAAAAAAAAAAAAAPoAAAEsAABAAABAAAAAAAAAAAAAAAAAQAAAAAAAAAAAAAAAAAAAAEAAAAA\n",
       "AAAAAAAAAAAAAEAAAAAAAAAAAAAAAAAAAAAAAAAAAAAAAAAAAAAAAAACAAACwHRyYWsAAABcdGto\n",
       "ZAAAAAMAAAAAAAAAAAAAAAEAAAAAAAAEsAAAAAAAAAAAAAAAAAAAAAAAAQAAAAAAAAAAAAAAAAAA\n",
       "AAEAAAAAAAAAAAAAAAAAAEAAAAABIAAAASAAAAAAACRlZHRzAAAAHGVsc3QAAAAAAAAAAQAABLAA\n",
       "AAgAAAEAAAAAAjhtZGlhAAAAIG1kaGQAAAAAAAAAAAAAAAAAACgAAAAwAFXEAAAAAAAtaGRscgAA\n",
       "AAAAAAAAdmlkZQAAAAAAAAAAAAAAAFZpZGVvSGFuZGxlcgAAAAHjbWluZgAAABR2bWhkAAAAAQAA\n",
       "AAAAAAAAAAAAJGRpbmYAAAAcZHJlZgAAAAAAAAABAAAADHVybCAAAAABAAABo3N0YmwAAACzc3Rz\n",
       "ZAAAAAAAAAABAAAAo2F2YzEAAAAAAAAAAQAAAAAAAAAAAAAAAAAAAAABIAEgAEgAAABIAAAAAAAA\n",
       "AAEAAAAAAAAAAAAAAAAAAAAAAAAAAAAAAAAAAAAAAAAAAAAY//8AAAAxYXZjQwFkAAz/4QAYZ2QA\n",
       "DKzZQSCWhAAAAwAEAAADAFA8UKZYAQAGaOvjyyLAAAAAHHV1aWRraEDyXyRPxbo5pRvPAyPzAAAA\n",
       "AAAAABhzdHRzAAAAAAAAAAEAAAAMAAAEAAAAABRzdHNzAAAAAAAAAAEAAAABAAAASGN0dHMAAAAA\n",
       "AAAABwAAAAUAAAgAAAAAAQAAFAAAAAABAAAIAAAAAAEAAAAAAAAAAQAABAAAAAABAAAQAAAAAAIA\n",
       "AAQAAAAAHHN0c2MAAAAAAAAAAQAAAAEAAAAMAAAAAQAAAERzdHN6AAAAAAAAAAAAAAAMAAAE1gAA\n",
       "AmUAAAJpAAACKAAAAnEAAAJcAAAAdQAAADgAAAAwAAAAPAAAADkAAAAaAAAAFHN0Y28AAAAAAAAA\n",
       "AQAAACwAAABidWR0YQAAAFptZXRhAAAAAAAAACFoZGxyAAAAAAAAAABtZGlyYXBwbAAAAAAAAAAA\n",
       "AAAAAC1pbHN0AAAAJal0b28AAAAdZGF0YQAAAAEAAAAATGF2ZjU4LjI5LjEwMA==\n",
       "\">\n",
       "  Your browser does not support the video tag.\n",
       "</video>"
      ],
      "text/plain": [
       "<IPython.core.display.HTML object>"
      ]
     },
     "execution_count": 100,
     "metadata": {},
     "output_type": "execute_result"
    }
   ],
   "source": [
    "import matplotlib.pyplot as plt\n",
    "\n",
    "from matplotlib import animation\n",
    "from IPython.display import HTML\n",
    "\n",
    "def get_anim(result, norm=False):\n",
    "    fig = plt.figure(figsize=(4, 4))\n",
    "    ax = plt.gca()\n",
    "    im = plt.imshow([[1]], cmap='gray')\n",
    "    plt.axis('off')\n",
    "    nt = result.shape[2]\n",
    "\n",
    "    rg = None\n",
    "    if norm:\n",
    "        rg = [result.min(), result.max()]\n",
    "\n",
    "    def drawframe(n):\n",
    "        if n >= nt:\n",
    "            n = nt - 1\n",
    "        else:\n",
    "            im.set_data(result[:, :, n])\n",
    "        if norm:\n",
    "            im.set_clim(rg)\n",
    "        return (im)\n",
    "\n",
    "    # blit=True re-draws only the parts that have changed.\n",
    "    anim = animation.FuncAnimation(fig, drawframe, frames=nt*2, interval=100, blit=False)\n",
    "    plt.close()\n",
    "    return anim\n",
    "\n",
    "anim = get_anim(data['wconv'][:, :, :, 1], norm=True).to_html5_video()\n",
    "HTML(anim)"
   ]
  }
 ],
 "metadata": {
  "kernelspec": {
   "display_name": "Python 3",
   "language": "python",
   "name": "python3"
  },
  "language_info": {
   "codemirror_mode": {
    "name": "ipython",
    "version": 3
   },
   "file_extension": ".py",
   "mimetype": "text/x-python",
   "name": "python",
   "nbconvert_exporter": "python",
   "pygments_lexer": "ipython3",
   "version": "3.8.5"
  }
 },
 "nbformat": 4,
 "nbformat_minor": 4
}
