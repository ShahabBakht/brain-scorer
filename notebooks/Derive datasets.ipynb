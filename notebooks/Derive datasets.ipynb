{
 "cells": [
  {
   "cell_type": "code",
   "execution_count": 10,
   "metadata": {},
   "outputs": [
    {
     "name": "stdout",
     "output_type": "stream",
     "text": [
      "Wall time: 36.2 s\n"
     ]
    }
   ],
   "source": [
    "%%time\n",
    "import tables\n",
    "\n",
    "f = tables.open_file('../data/crcns-vim2/Stimuli.mat')\n",
    "Xv = f.get_node('/sv')[:]\n",
    "Xt = f.get_node('/st')[:]\n",
    "f.close()"
   ]
  },
  {
   "cell_type": "code",
   "execution_count": 25,
   "metadata": {},
   "outputs": [],
   "source": [
    "h5file.close()"
   ]
  },
  {
   "cell_type": "code",
   "execution_count": 11,
   "metadata": {},
   "outputs": [
    {
     "name": "stdout",
     "output_type": "stream",
     "text": [
      "Wall time: 44.8 s\n"
     ]
    }
   ],
   "source": [
    "%%time\n",
    "h5file = tables.open_file(\"../data/crcns-vim2/derived/Stimuli.mat\", mode=\"w\", title=\"Stimulus file\")\n",
    "h5file.create_array('/', 'sv', Xv, \"Validation stimulus\")\n",
    "h5file.create_array('/', 'st', Xt, \"Training stimulus\")\n",
    "h5file.flush()\n",
    "h5file.close()"
   ]
  },
  {
   "cell_type": "code",
   "execution_count": 2,
   "metadata": {},
   "outputs": [
    {
     "name": "stdout",
     "output_type": "stream",
     "text": [
      "Wall time: 3.43 s\n"
     ]
    }
   ],
   "source": [
    "%%time\n",
    "import tables\n",
    "\n",
    "f = tables.open_file('../data/crcns-vim2/derived/Stimuli.mat')\n",
    "Xv = f.get_node('/sv')[:]\n",
    "Xt = f.get_node('/st')[:]\n",
    "f.close()"
   ]
  },
  {
   "cell_type": "code",
   "execution_count": 8,
   "metadata": {},
   "outputs": [
    {
     "name": "stdout",
     "output_type": "stream",
     "text": [
      "Subject 1\n",
      "Subject 2\n",
      "Subject 3\n",
      "CPU times: user 38.8 s, sys: 5.93 s, total: 44.7 s\n",
      "Wall time: 2min 10s\n"
     ]
    }
   ],
   "source": [
    "%%time\n",
    "import numpy as np\n",
    "import tables\n",
    "\n",
    "for subject in [1, 2, 3]:\n",
    "    print(f\"Subject {subject}\")\n",
    "    f = tables.open_file(f'../data/crcns-vim2/VoxelResponses_subject{subject}.mat')\n",
    "    Yv = f.get_node('/rv')[:]\n",
    "    Yt = f.get_node('/rt')[:]\n",
    "    nodes = f.list_nodes('/roi')\n",
    "    rois = {}\n",
    "    for node in nodes:\n",
    "        rois[node.name] = node[:]\n",
    "    f.close()\n",
    "    \n",
    "    mask = (~np.isnan(Yv)).all(1) & (~np.isnan(Yt)).all(1)\n",
    "    \n",
    "    h5file = tables.open_file(f'../data/crcns-vim2/derived/VoxelResponses_subject{subject}.mat', mode=\"w\", title=\"Response file\")\n",
    "    h5file.create_array('/', 'rv', Yv, \"Validation responses\")\n",
    "    h5file.create_array('/', 'rt', Yt, \"Training responses\")\n",
    "    h5file.create_array('/', 'mask', mask, \"Master mask\")\n",
    "    groups = h5file.create_group('/', 'roi')\n",
    "    for key, node in rois.items():\n",
    "        h5file.create_array(groups, key, node, \"ROI\")\n",
    "    h5file.flush()\n",
    "    h5file.close()"
   ]
  },
  {
   "cell_type": "code",
   "execution_count": 7,
   "metadata": {},
   "outputs": [
    {
     "data": {
      "text/plain": [
       "(73728, 7200)"
      ]
     },
     "execution_count": 7,
     "metadata": {},
     "output_type": "execute_result"
    }
   ],
   "source": [
    "Yt.shape"
   ]
  },
  {
   "cell_type": "code",
   "execution_count": 7,
   "metadata": {},
   "outputs": [
    {
     "name": "stdout",
     "output_type": "stream",
     "text": [
      "Wall time: 1.74 s\n"
     ]
    }
   ],
   "source": [
    "%%time\n",
    "\n",
    "import tables\n",
    "f = tables.open_file(f'../data/crcns-vim2/derived/VoxelResponses_subject{subject}.mat')\n",
    "Yv = f.get_node('/rv')[:]\n",
    "Yt = f.get_node('/rt')[:]\n",
    "nodes = f.list_nodes('/roi')\n",
    "rois = {}\n",
    "for node in nodes:\n",
    "    rois[node.name] = node[:]\n",
    "f.close()"
   ]
  }
 ],
 "metadata": {
  "kernelspec": {
   "display_name": "Python 3",
   "language": "python",
   "name": "python3"
  },
  "language_info": {
   "codemirror_mode": {
    "name": "ipython",
    "version": 3
   },
   "file_extension": ".py",
   "mimetype": "text/x-python",
   "name": "python",
   "nbconvert_exporter": "python",
   "pygments_lexer": "ipython3",
   "version": "3.8.5"
  }
 },
 "nbformat": 4,
 "nbformat_minor": 4
}
