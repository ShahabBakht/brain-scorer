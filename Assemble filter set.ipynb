{
 "cells": [
  {
   "cell_type": "code",
   "execution_count": 75,
   "metadata": {},
   "outputs": [
    {
     "name": "stdout",
     "output_type": "stream",
     "text": [
      "Found 35\n",
      "24\n",
      "0.04004070535302162\n",
      "23\n",
      "0.24185840785503387\n",
      "22\n",
      "0.17340582609176636\n",
      "21\n",
      "0.1351379752159119\n",
      "20\n",
      "0.015181859023869038\n",
      "19\n",
      "0.25096848607063293\n",
      "18\n",
      "-0.011739731766283512\n",
      "17\n",
      "0.12968245148658752\n",
      "16\n",
      "0.3303099274635315\n",
      "15\n",
      "0.042528070509433746\n",
      "14\n",
      "0.13132330775260925\n",
      "13\n",
      "0.058095794171094894\n",
      "12\n",
      "0.28432026505470276\n",
      "11\n",
      "0.22232937812805176\n",
      "10\n",
      "0.29889947175979614\n",
      "9\n",
      "0.3992461562156677\n",
      "8\n",
      "0.005461160559207201\n",
      "7\n",
      "0.0816134363412857\n",
      "6\n",
      "0.31066060066223145\n",
      "5\n",
      "-0.026066577062010765\n",
      "4\n",
      "0.2140108346939087\n",
      "3\n",
      "0.17924673855304718\n",
      "2\n",
      "0.2892853021621704\n",
      "1\n",
      "0.35835644602775574\n",
      "0\n",
      "0.22452057898044583\n"
     ]
    }
   ],
   "source": [
    "import torch\n",
    "import wandb\n",
    "\n",
    "api = wandb.Api()\n",
    "\n",
    "runs = api.runs(\"pmin/crcns-train_net.py\", \n",
    "                {\"$and\": \n",
    "                 [\n",
    "                     {\"config.single_cell\": {\"$gt\" : -1}},\n",
    "                     {\"config.submodel\": \"xception2d\"},\n",
    "                     {\"config.dataset\": \"pvc4\"},\n",
    "                     {\"state\": \"finished\"},\n",
    "                ]\n",
    "                }\n",
    "               )\n",
    "\n",
    "archives = {}\n",
    "print(\"Found %i\" % len(runs))\n",
    "for i in runs:\n",
    "    if i.config['single_cell'] in archives:\n",
    "        continue\n",
    "    print(i.config['single_cell'])\n",
    "    print(i.summary['tune_corr'])\n",
    "    \n",
    "    # This restores the weights\n",
    "    wandb.restore('model.pt', '/'.join(i.path), True)\n",
    "    restored = torch.load('model.pt')\n",
    "    archives[i.config['single_cell']] = {'tune_corr': i.summary['tune_corr'],\n",
    "                                         'weights': restored}"
   ]
  },
  {
   "cell_type": "code",
   "execution_count": 77,
   "metadata": {},
   "outputs": [
    {
     "data": {
      "text/plain": [
       "(array([4., 3., 1., 3., 2., 3., 2., 4., 1., 2.]),\n",
       " array([-0.02606658,  0.0164647 ,  0.05899597,  0.10152724,  0.14405852,\n",
       "         0.18658979,  0.22912106,  0.27165234,  0.31418361,  0.35671488,\n",
       "         0.39924616]),\n",
       " <BarContainer object of 10 artists>)"
      ]
     },
     "execution_count": 77,
     "metadata": {},
     "output_type": "execute_result"
    },
    {
     "data": {
      "image/png": "[encoded data removed]",
      "text/plain": [
       "<Figure size 432x288 with 1 Axes>"
      ]
     },
     "metadata": {
      "needs_background": "light"
     },
     "output_type": "display_data"
    }
   ],
   "source": [
    "import matplotlib.pyplot as plt\n",
    "plt.hist([x['tune_corr'] for x in archives.values()])"
   ]
  },
  {
   "cell_type": "code",
   "execution_count": 84,
   "metadata": {},
   "outputs": [
    {
     "data": {
      "text/plain": [
       "torch.Size([8, 3, 7, 7])"
      ]
     },
     "execution_count": 84,
     "metadata": {},
     "output_type": "execute_result"
    }
   ],
   "source": [
    "archives[0]['weights']['subnet.conv1.weight'].shape"
   ]
  },
  {
   "cell_type": "code",
   "execution_count": 94,
   "metadata": {},
   "outputs": [],
   "source": [
    "import numpy as np\n",
    "\n",
    "targets = sorted([(v['tune_corr'], v['weights']) for v in archives.values()])[:-17:-1]\n",
    "ws = []\n",
    "for _, vals in targets:\n",
    "    idx = np.argsort(np.random.rand(8))[:4:]\n",
    "    ws.append(vals['subnet.conv1.weight'][idx, :, :, :].cpu().detach().numpy())\n",
    "\n",
    "W = np.concatenate(ws, axis=0)\n",
    "np.save('pretrained/gaborpyramid2d.npy', W)"
   ]
  },
  {
   "cell_type": "code",
   "execution_count": 56,
   "metadata": {},
   "outputs": [
    {
     "data": {
      "text/plain": [
       "<_io.TextIOWrapper name='D:\\\\Documents\\\\brain-scorer\\\\model.pt' mode='rb' encoding='cp1252'>"
      ]
     },
     "execution_count": 56,
     "metadata": {},
     "output_type": "execute_result"
    }
   ],
   "source": [
    "model_file.mode = 'rb'\n",
    "model_file"
   ]
  },
  {
   "cell_type": "code",
   "execution_count": 93,
   "metadata": {},
   "outputs": [
    {
     "data": {
      "text/plain": [
       "15"
      ]
     },
     "execution_count": 93,
     "metadata": {},
     "output_type": "execute_result"
    }
   ],
   "source": [
    "len(ws)"
   ]
  },
  {
   "cell_type": "code",
   "execution_count": 38,
   "metadata": {},
   "outputs": [
    {
     "data": {
      "text/plain": [
       "<wandb.apis.public.RetryingClient at 0x17831b33ee0>"
      ]
     },
     "execution_count": 38,
     "metadata": {},
     "output_type": "execute_result"
    }
   ],
   "source": [
    "f = i.file('model.pt')\n",
    "f."
   ]
  },
  {
   "cell_type": "code",
   "execution_count": 16,
   "metadata": {},
   "outputs": [
    {
     "data": {
      "text/plain": [
       "{'_step': 0, '_runtime': 1, 'tune_corr': 0.04770519211888313, '_timestamp': 1608354193}"
      ]
     },
     "execution_count": 16,
     "metadata": {},
     "output_type": "execute_result"
    }
   ],
   "source": []
  }
 ],
 "metadata": {
  "kernelspec": {
   "display_name": "Python 3",
   "language": "python",
   "name": "python3"
  },
  "language_info": {
   "codemirror_mode": {
    "name": "ipython",
    "version": 3
   },
   "file_extension": ".py",
   "mimetype": "text/x-python",
   "name": "python",
   "nbconvert_exporter": "python",
   "pygments_lexer": "ipython3",
   "version": "3.8.5"
  }
 },
 "nbformat": 4,
 "nbformat_minor": 4
}
